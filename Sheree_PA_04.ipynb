{
 "cells": [
  {
   "cell_type": "markdown",
   "id": "34e889f9-09e5-448f-8665-eedea26b19e4",
   "metadata": {},
   "source": [
    "# Programming Assignment #4\n"
   ]
  },
  {
   "cell_type": "markdown",
   "id": "b20069fa-1790-4d28-a662-3c4e2a39bba6",
   "metadata": {},
   "source": [
    "## 1. Linear Regression using scikit-learn\n",
    "\n",
    "The diamonds dataset contains the price, cut, color, and other characteristics of a sample of nearly 54,000 diamonds. This data can be used to predict the price of a diamond based on its characteristics. Use sklearn's LinearRegression() function to predict the price of a diamond from the diamond's carat and table values.\n",
    "\n",
    "- Import needed packages for regression.\n",
    "- Initialize and fit a multiple linear regression model.\n",
    "- Get the estimated intercept weight.\n",
    "- Get the estimated weights of the carat and table features.\n",
    "- Predict the price of a diamond with the user-input carat and table values.\n",
    "\n",
    "Ex: If the input is:\n",
    "\n",
    "- 0.5\n",
    "- 60\n",
    "\n",
    "the output should be:\n",
    "\n",
    "- Intercept is 1961.992\n",
    "- Weights for carat and table features are [7820.038  -74.301]\n",
    "- Predicted price is [1413.97]"
   ]
  },
  {
   "cell_type": "code",
   "execution_count": 3,
   "id": "a53a2258-85ec-4f9c-9044-a3e03ea0f1be",
   "metadata": {},
   "outputs": [
    {
     "name": "stdin",
     "output_type": "stream",
     "text": [
      " 0.5\n",
      " 60\n"
     ]
    },
    {
     "name": "stdout",
     "output_type": "stream",
     "text": [
      "Intercept is 1961.992\n",
      "Weights for carat and table features are [7820.038  -74.301]\n",
      "Predicted price is [1413.97]\n"
     ]
    }
   ],
   "source": [
    "# Import needed packages for regression\n",
    "import numpy as np\n",
    "import pandas as pd\n",
    "from sklearn.linear_model import LinearRegression\n",
    "\n",
    "# Silence warning from sklearn\n",
    "import warnings\n",
    "warnings.filterwarnings('ignore')\n",
    "\n",
    "# Input feature values for a sample instance\n",
    "carat = float(input())\n",
    "table = float(input())\n",
    "\n",
    "diamonds = pd.read_csv('diamonds.csv')\n",
    "\n",
    "# Define input and output features\n",
    "X = diamonds[['carat', 'table']]\n",
    "y = diamonds['price']\n",
    "\n",
    "# Initialize a multiple linear regression model\n",
    "model = LinearRegression()\n",
    "\n",
    "# Fit the multiple linear regression model to the input and output features\n",
    "model.fit(X, y)\n",
    "\n",
    "# Get estimated intercept weight\n",
    "intercept = model.intercept_\n",
    "print('Intercept is', round(intercept, 3))\n",
    "\n",
    "# Get estimated weights for carat and table features\n",
    "coefficients = model.coef_\n",
    "print('Weights for carat and table features are', np.round(coefficients, 3))\n",
    "\n",
    "# Predict the price of a diamond with the user-input carat and table values\n",
    "prediction = model.predict([[carat, table]])\n",
    "print('Predicted price is', np.round(prediction, 2))"
   ]
  },
  {
   "cell_type": "code",
   "execution_count": null,
   "id": "2fa08d2a-995d-49b4-8ba2-01d7a58d8fa1",
   "metadata": {},
   "outputs": [],
   "source": []
  },
  {
   "cell_type": "markdown",
   "id": "bc74160c-0366-4a16-b131-effedf232ce5",
   "metadata": {},
   "source": [
    "## 2. Logistic Regression using scikit-learn\n",
    "\n",
    "The **nbaallelo_log** file contains data on 126314 NBA games from 1947 to 2015. The dataset includes the features **pts, elo_i, win_equiv, and game_result**. Using the csv file **nbaallelo_log.csv** and scikit-learn's **LogisticRegression()** function, construct a logistic regression model to classify whether a team will win or lose a game based on the team's elo_i score.\n",
    "\n",
    "- Create a binary feature win for **game_result** with 0 for L and 1 for W\n",
    "- Use the **LogisticRegression()** function to construct a logistic regression model with **win** as the target and **elo_i** as the predictor\n",
    "- Print the weights and intercept of the fitted model\n",
    "- Find the proportion of instances correctly classified\n",
    "  \n",
    "Note: Use **ravel()** from **numpy** to flatten the second argument of **LogisticRegression.fit()** into a 1-D array.\n",
    "\n",
    "Ex: If the program uses the file **nbaallelo_small.csv**, which contains 100 instances, the output is:\n",
    "\n",
    "- w1: [[3.64194406e-06]]\n",
    "- w0: [-2.80257471e-09]\n",
    "- 0.5"
   ]
  },
  {
   "cell_type": "code",
   "execution_count": 31,
   "id": "4045d6c1-6b4b-4cb8-b603-377bc6eb57bd",
   "metadata": {},
   "outputs": [
    {
     "name": "stdout",
     "output_type": "stream",
     "text": [
      "w1: [[0.01584847]]\n",
      "w0: [-20.5904548]\n",
      "0.62\n"
     ]
    }
   ],
   "source": [
    "# Import the necessary libraries\n",
    "import numpy as np\n",
    "import pandas as pd\n",
    "from sklearn.linear_model import LogisticRegression\n",
    "\n",
    "# Load nbaallelo_log.csv into a dataframe\n",
    "NBA = pd.read_csv('nbaallelo_small.csv')\n",
    "\n",
    "# Create binary feature for game_result with 0 for L and 1 for W\n",
    "NBA['win'] = NBA['game_result'].apply(lambda x: 1 if x == 'W' else 0)\n",
    "\n",
    "# Store relevant columns as variables\n",
    "X = NBA[['elo_i']]\n",
    "y = NBA[['win']].values.ravel()\n",
    "\n",
    "# Initialize and fit the logistic model using the LogisticRegression() function\n",
    "model = LogisticRegression()\n",
    "model.fit(X, y)\n",
    "\n",
    "# Print the weights for the fitted model\n",
    "print('w1:', model.coef_)\n",
    "\n",
    "# Print the intercept of the fitted model\n",
    "print('w0:', model.intercept_)\n",
    "\n",
    "# Find the proportion of instances correctly classified\n",
    "score = model.score(X, y)\n",
    "print(round(score, 3))"
   ]
  },
  {
   "cell_type": "code",
   "execution_count": null,
   "id": "a07d6f72-fff5-4ffd-b79d-cc89c2e6a5ed",
   "metadata": {},
   "outputs": [],
   "source": []
  },
  {
   "cell_type": "markdown",
   "id": "a8380de5-1123-4ae4-a35e-7067ae25bb61",
   "metadata": {},
   "source": [
    "## 3. Support Vector Classifier using scikit-learn\n",
    "\n",
    "The heart dataset contains 13 health-related attributes from 303 patients and one attribute denoting whether or not the patient has heart disease. Using the file heart.csv and scikit-learn's LinearSVC() function, fit a support vector classifier to predict whether a patient has heart disease based on other health attributes.\n",
    "\n",
    "- Import the correct packages and functions.\n",
    "- Split the data into 75% training data and 25% testing data. Set random_state=123.\n",
    "- Initialize and fit a support vector classifier with C=0.2, a maximum of 500 iterations, and random_state=123.\n",
    "- Print the model weights.\n",
    "\n",
    "Ex: If the program input is heart_small.csv, which contains 100 instances, the output is:\n",
    "\n",
    "0.6\n",
    "\n",
    "w0: [0.013]\n",
    "w1 and w2: [[ 0.361 -0.087]]"
   ]
  },
  {
   "cell_type": "code",
   "execution_count": 35,
   "id": "08cfe80e-0a12-49fe-b251-5cc2d3defb93",
   "metadata": {},
   "outputs": [
    {
     "name": "stdout",
     "output_type": "stream",
     "text": [
      "0.6\n",
      "w0: [0.013]\n",
      "w1 and w2: [[ 0.361 -0.087]]\n"
     ]
    }
   ],
   "source": [
    "# Import the necessary packages\n",
    "import numpy as np\n",
    "import pandas as pd\n",
    "from sklearn.model_selection import train_test_split\n",
    "from sklearn.preprocessing import StandardScaler\n",
    "from sklearn.svm import LinearSVC\n",
    "\n",
    "heart = pd.read_csv('heart_small.csv')\n",
    "\n",
    "# Input features: thalach and age\n",
    "X = heart[['thalach', 'age']]\n",
    "\n",
    "# Output feature: target\n",
    "y = heart[['target']]\n",
    "\n",
    "# Create training and testing data with 75% training data and 25% testing data\n",
    "X_train, X_test, y_train, y_test = train_test_split(X, y, test_size=0.25, random_state=123)\n",
    "\n",
    "# Scale the input features\n",
    "scaler = StandardScaler()\n",
    "X_train = scaler.fit_transform(X_train)\n",
    "X_test = scaler.transform(X_test)\n",
    "\n",
    "# Initialize a support vector classifier with C=0.2 and a maximum of 500 iterations\n",
    "SVC = LinearSVC(C=0.2, max_iter=500, random_state=123)\n",
    "\n",
    "# Fit the support vector classifier according to the training data\n",
    "SVC.fit(X_train, y_train)\n",
    "\n",
    "# Evaluate model on testing data\n",
    "score = SVC.score(X_test, np.ravel(y_test))\n",
    "print(np.round(score, 3))\n",
    "\n",
    "# Print the model weights\n",
    "# w0\n",
    "print('w0:', np.round(SVC.intercept_, 3))\n",
    "\n",
    "# w1 and w2\n",
    "print('w1 and w2:', np.round(SVC.coef_, 3))"
   ]
  },
  {
   "cell_type": "markdown",
   "id": "ba71d1f1-8716-44a9-bf75-577b55c3ca82",
   "metadata": {},
   "source": [
    "## 4. k-Nearest Neighbors using scikit-learn \n",
    "The dataset SDSS contains 17 observational features and one class feature for 10000 deep sky objects observed by the Sloan Digital Sky Survey. Use sklearn's KNeighborsClassifier() function to perform kNN classification to classify each object by the object's redshift and u-g color.\n",
    "\n",
    "- Import the necessary modules for kNN classification\n",
    "- Create dataframe X with features redshift and u_g\n",
    "- Create dataframe y with feature class\n",
    "- Initialize a kNN model with k=3\n",
    "- Fit the model using the training data\n",
    "- Find the predicted classes for the test data\n",
    "- Calculate the accuracy score using the test data\n",
    "\n",
    "Ex: If the feature u is used rather than u_g, the output is:\n",
    "- Accuracy score is 0.979"
   ]
  },
  {
   "cell_type": "code",
   "execution_count": 39,
   "id": "4e2ceea9-ca61-4001-b0fa-5b0ef4b85f79",
   "metadata": {},
   "outputs": [
    {
     "name": "stdout",
     "output_type": "stream",
     "text": [
      "Accuracy score is 0.984\n"
     ]
    }
   ],
   "source": [
    "# Import needed packages for classification\n",
    "import numpy as np\n",
    "import pandas as pd\n",
    "from sklearn.model_selection import train_test_split\n",
    "from sklearn.neighbors import KNeighborsClassifier\n",
    "\n",
    "# Import packages for evaluation\n",
    "from sklearn.metrics import accuracy_score\n",
    "\n",
    "# Load the dataset\n",
    "skySurvey = pd.read_csv('SDSS.csv')\n",
    "\n",
    "# Create a new feature from u - g\n",
    "skySurvey['u_g'] = skySurvey['u'] - skySurvey['g']\n",
    "\n",
    "# Create dataframe X with features redshift and u_g\n",
    "X = skySurvey[['redshift', 'u_g']]\n",
    "\n",
    "# Create dataframe y with feature class\n",
    "y = skySurvey['class']\n",
    "\n",
    "np.random.seed(42)\n",
    "\n",
    "# Split data into training and test sets\n",
    "X_train, X_test, y_train, y_test = train_test_split(X, y, test_size=0.3)\n",
    "\n",
    "# Initialize model with k=3\n",
    "skySurveyKnn = KNeighborsClassifier(n_neighbors=3)\n",
    "\n",
    "# Fit model using X_train and y_train\n",
    "skySurveyKnn.fit(X_train, y_train)\n",
    "\n",
    "# Find the predicted classes for X_test\n",
    "y_pred = skySurveyKnn.predict(X_test)\n",
    "\n",
    "# Calculate accuracy score\n",
    "score = accuracy_score(y_test, y_pred)\n",
    "\n",
    "# Print accuracy score\n",
    "print('Accuracy score is ', end=\"\")\n",
    "print('%.3f' % score)"
   ]
  },
  {
   "cell_type": "markdown",
   "id": "3eb2adb6-a4d7-4bcd-8777-2dd8e013d324",
   "metadata": {},
   "source": [
    "## 5. Naive Bayes using scikit-learn "
   ]
  },
  {
   "cell_type": "markdown",
   "id": "493350b7-85b8-486b-b3c8-797425525e8d",
   "metadata": {},
   "source": [
    "The file SDSS contains 17 observational features and one class feature for 10000 deep sky objects observed by the Sloan Digital Sky Survey. Use sklearn's GaussianNB() function to perform Gaussian naive Bayes classification to classify each object by the object's redshift and u-g color.\n",
    "\n",
    "- Import the necessary modules for Gaussian naive Bayes classification\n",
    "- Create dataframe X with features redshift and u_g\n",
    "- Create dataframe y with feature class\n",
    "- Initialize a Gaussian naive Bayes model with the default parameters\n",
    "- Fit the model\n",
    "- Calculate the accuracy score\n",
    "\n",
    "Note: Use ravel() from numpy to flatten the second argument of GaussianNB.fit() into a 1-D array.\n",
    "\n",
    "Ex: If the feature u is used rather than u_g, the output is:\n",
    "\n",
    "- Accuracy score is 0.987"
   ]
  },
  {
   "cell_type": "code",
   "execution_count": 41,
   "id": "3604508a-dc4c-459b-9152-188228a5054d",
   "metadata": {},
   "outputs": [
    {
     "name": "stdout",
     "output_type": "stream",
     "text": [
      "Accuracy score is 0.987\n"
     ]
    }
   ],
   "source": [
    "# Import the necessary modules\n",
    "import numpy as np\n",
    "import pandas as pd\n",
    "from sklearn.naive_bayes import GaussianNB\n",
    "from sklearn.metrics import accuracy_score\n",
    "\n",
    "# Load the dataset\n",
    "skySurvey = pd.read_csv('SDSS.csv')\n",
    "\n",
    "# Create a new feature from u - g\n",
    "skySurvey['u_g'] = skySurvey['u'] - skySurvey['g']\n",
    "\n",
    "# Create dataframe X with features redshift and u_g\n",
    "X = skySurvey[['redshift', 'u_g']]\n",
    "\n",
    "# Create dataframe y with feature class\n",
    "y = skySurvey['class']\n",
    "\n",
    "# Initialize a Gaussian naive Bayes model\n",
    "skySurveyNBModel = GaussianNB()\n",
    "\n",
    "# Fit the model\n",
    "skySurveyNBModel.fit(X, y)\n",
    "\n",
    "# Calculate the proportion of instances correctly classified\n",
    "score = skySurveyNBModel.score(X, np.ravel(y))\n",
    "\n",
    "# Print accuracy score\n",
    "print('Accuracy score is ', end=\"\")\n",
    "print('%.3f' % score)"
   ]
  },
  {
   "cell_type": "markdown",
   "id": "47228886-e0e2-4536-914e-1315f59cab62",
   "metadata": {},
   "source": [
    "## 6. Ensemble methods using scikit-learn "
   ]
  },
  {
   "cell_type": "markdown",
   "id": "c1e30f1a-214f-4495-8468-74004e473a0e",
   "metadata": {},
   "source": [
    "## 6.1. Bagging using scikit-learn \n",
    "The msleep_clean dataset contains information on sleep habits for 47 mammals. Features include length of REM sleep, time spent awake, brain weight, and body weight.\n",
    "\n",
    "- Create a dataframe X containing the features awake, brainwt, and bodywt, in that order.\n",
    "- Create a dataframe y containing sleep_rem.\n",
    "- Initialize and fit a bagging regressor with 30 base estimators, a random state of 10, and oob_score=True.\n",
    "\n",
    "Ex: If 10 base estimators are used, the output should be:\n",
    "\n",
    "0.2322\n",
    "\n",
    "[3.26   2.92   1.0333 2.3333 0.8    1.325  2.56   2.2667 0.8    2.38\n",
    " 3.     0.5333 3.175  2.9667 0.7    0.65   1.825  2.2667 2.     1.\n",
    " 0.6    1.1667 1.5    3.1    2.     1.9    4.15   1.3    0.75   1.2\n",
    " 2.025  1.45   3.0286 2.72   0.5    2.0333 1.12   2.     2.65   1.65\n",
    " 2.6667 2.3    1.45   0.58   2.625  1.6    0.74   1.3   ]"
   ]
  },
  {
   "cell_type": "code",
   "execution_count": 45,
   "id": "b5f86c9b-5dca-4e2c-bc0d-44bcac54b914",
   "metadata": {},
   "outputs": [
    {
     "name": "stdout",
     "output_type": "stream",
     "text": [
      "0.3144\n",
      "[3.1    2.98   0.8    1.6867 0.7167 1.8533 2.3091 2.0727 1.5231 2.1727\n",
      " 2.95   0.5375 2.9417 2.8727 0.9    0.7765 1.9818 2.5    1.8692 1.57\n",
      " 0.9692 1.1778 1.5769 2.75   2.4    2.1364 4.1727 1.6765 0.71   1.3909\n",
      " 2.13   1.9733 3.1429 3.3533 0.51   2.0077 1.4    2.0143 2.45   1.975\n",
      " 2.6    2.3    1.2    0.58   2.8222 1.9222 0.7417 1.24  ]\n"
     ]
    }
   ],
   "source": [
    "import numpy as np\n",
    "import pandas as pd\n",
    "from sklearn.ensemble import BaggingRegressor\n",
    "\n",
    "df = pd.read_csv('msleep_clean.csv')\n",
    "\n",
    "# Create a dataframe X containing the features awake, brainwt, and bodywt, in that order\n",
    "X = df[['awake', 'brainwt', 'bodywt']]\n",
    "\n",
    "# Create a dataframe y containing sleep_rem\n",
    "y = df['sleep_rem']\n",
    "\n",
    "\n",
    "# Initialize and fit bagging regressor with 30 base estimators, a random state of 10, and oob_score=True\n",
    "sleepModel = BaggingRegressor(n_estimators=30, random_state=10, oob_score=True)\n",
    "sleepModel.fit(X, y)\n",
    "\n",
    "# Calculate out-of-bag accuracy\n",
    "print(np.round(sleepModel.oob_score_, 4))\n",
    "\n",
    "# Calculate predictions from out-of-bag estimate\n",
    "print(np.round(sleepModel.oob_prediction_, 4))"
   ]
  },
  {
   "cell_type": "markdown",
   "id": "de60ca02-5530-41e4-a7c6-d5862b8554f6",
   "metadata": {},
   "source": [
    "## 6.2. Random forests using scikit-learn \n",
    "The mpg_clean.csv dataset contains information on miles per gallon (mpg) and engine size for cars sold from 1970 through 1982. Dataframe X contains the input features mpg, cylinders, displacement, horsepower, weight, acceleration, and model_year. Dataframe y contains the output feature origin.\n",
    "\n",
    "- Initialize and fit a random forest classifier with a user-input number of decision trees, estimator, a user-input number of features considered at each split, max_features, and a random state of 123.\n",
    "- Calculate the prediction accuracy for the model.\n",
    "- Read the documentation for the permutation_importance function from scikit-learn's inspection module.\n",
    "- Calculate the permutation importance using the default parameters and a random state of 123.\n",
    "\n",
    "Ex: When the input is\n",
    "\n",
    "5\n",
    "\n",
    "3\n",
    "\n",
    "the output is:\n",
    "\n",
    "0.9796\n",
    "\n",
    "\n",
    "     | Feature          | Permutation Importance |\n",
    "     |------------------|------------------------|\n",
    "    2| displacement     | 0.453571               |\n",
    "    0| mpg              | 0.160204               |\n",
    "    4| weight           | 0.133673               |\n",
    "    3| horsepower       | 0.107653               |\n",
    "    5| acceleration     | 0.057143               |\n",
    "    6| model_year       | 0.051531               |\n",
    "    1| cylinders        | 0.012245               |\n",
    "\n",
    "\n"
   ]
  },
  {
   "cell_type": "code",
   "execution_count": 49,
   "id": "c91ddba8-8bd1-42f4-ae22-9b5ed92ba0ef",
   "metadata": {},
   "outputs": [
    {
     "name": "stdin",
     "output_type": "stream",
     "text": [
      " 5\n",
      " 3\n"
     ]
    },
    {
     "name": "stdout",
     "output_type": "stream",
     "text": [
      "0.9796\n",
      "        feature  permutation importance\n",
      "2  displacement                0.453571\n",
      "0           mpg                0.160204\n",
      "4        weight                0.133673\n",
      "3    horsepower                0.107653\n",
      "5  acceleration                0.057143\n",
      "6    model_year                0.051531\n",
      "1     cylinders                0.012245\n"
     ]
    }
   ],
   "source": [
    "import numpy as np\n",
    "import pandas as pd\n",
    "\n",
    "from sklearn.ensemble import RandomForestClassifier\n",
    "from sklearn.inspection import permutation_importance\n",
    "\n",
    "df = pd.read_csv('mpg_clean.csv')\n",
    "\n",
    "# Create a dataframe X containing the input features\n",
    "X = df.drop(columns=['name', 'origin'])\n",
    "# Create a dataframe y containing the output feature origin\n",
    "y = df[['origin']]\n",
    "\n",
    "# Get user-input n_estimators and max_features (ask with different values)\n",
    "estimators = int(input())\n",
    "max_features = int(input())\n",
    "\n",
    "# Initialize and fit a random forest classifier with user-input number of decision trees, \n",
    "# user-input number of features considered at each split, and a random state of 123\n",
    "rfModel = RandomForestClassifier(n_estimators=estimators, max_features=max_features, random_state=123)\n",
    "rfModel.fit(X, np.ravel(y))\n",
    "\n",
    "# Calculate prediction accuracy\n",
    "score = rfModel.score(X, y)\n",
    "print(round(score, 4))\n",
    "\n",
    "# Calculate the permutation importance using the default parameters and a random state of 123\n",
    "result = permutation_importance(rfModel, X, y, random_state=123)\n",
    "\n",
    "# Variable importance table\n",
    "importance_table = pd.DataFrame(\n",
    "    data={'feature': rfModel.feature_names_in_,'permutation importance': result.importances_mean}\n",
    ").sort_values('permutation importance', ascending=False)\n",
    "\n",
    "print(importance_table)"
   ]
  },
  {
   "cell_type": "markdown",
   "id": "942139db-9cb7-410b-83c0-bacd96b7ebd4",
   "metadata": {},
   "source": [
    "## 6.3. Boosting using scikit-learn \n",
    "The mpg.csv dataset contains information on miles per gallon (mpg) and engine size for cars sold from 1970 through 1982.\n",
    "\n",
    "- Create a dataframe X containing the input features cylinders, weight, and mpg.\n",
    "- Create a dataframe y containing the output feature origin.\n",
    "- Initialize and fit an adaptive boosting classifier with a user-input learning rate lr and a random state of 123.\n",
    "- Initialize and fit a gradient boosting classifier with a user-input learning rate lr and a random state of 123.\n",
    "- Calculate the prediction accuracy for each model.\n",
    "\n",
    "Ex: If the user-input learning rate is 0.6, the output is:\n",
    "\n",
    "0.7688\n",
    "\n",
    "0.995"
   ]
  },
  {
   "cell_type": "code",
   "execution_count": 51,
   "id": "5ccfd231-868f-4499-907a-1fb23106738d",
   "metadata": {},
   "outputs": [
    {
     "name": "stdin",
     "output_type": "stream",
     "text": [
      " 0.6\n"
     ]
    },
    {
     "name": "stdout",
     "output_type": "stream",
     "text": [
      "0.7688\n",
      "0.995\n"
     ]
    }
   ],
   "source": [
    "import numpy as np\n",
    "import pandas as pd\n",
    "from sklearn.ensemble import GradientBoostingClassifier\n",
    "from sklearn.ensemble import AdaBoostClassifier\n",
    "\n",
    "mpg = pd.read_csv('mpg.csv')\n",
    "\n",
    "# Create a dataframe X containing cylinders, weight, and mpg\n",
    "X = mpg[['cylinders', 'weight', 'mpg']]\n",
    "\n",
    "# Create a dataframe y containing origin\n",
    "y = mpg[['origin']]\n",
    "\n",
    "# Get user-input learning rate\n",
    "lr = float(input())\n",
    "\n",
    "# Initialize and fit an adaptive boosting classifier with the user-input learning rate and a \n",
    "# random state of 123\n",
    "adaBoostModel = AdaBoostClassifier(learning_rate=lr, random_state=123)\n",
    "adaBoostModel.fit(X, np.ravel(y))\n",
    "\n",
    "# Initialize and fit a gradient boosting classifier with the user-input learning rate and a \n",
    "# random state of 123\n",
    "gradientBoostModel = GradientBoostingClassifier(learning_rate=lr, random_state=123)\n",
    "gradientBoostModel.fit(X, np.ravel(y))\n",
    "\n",
    "# Calculate the prediction accuracy for the adaptive boosting classifier\n",
    "adaBoostScore = adaBoostModel.score(X, y)\n",
    "print(round(adaBoostScore, 4))\n",
    "\n",
    "# Calculate the prediction accuracy for the gradient boosting classifier\n",
    "gradientBoostScore = gradientBoostModel.score(X, y)\n",
    "print(round(gradientBoostScore, 4))"
   ]
  },
  {
   "cell_type": "code",
   "execution_count": null,
   "id": "2e59e220-2de2-4030-9abd-4bd3a7143a60",
   "metadata": {},
   "outputs": [],
   "source": []
  }
 ],
 "metadata": {
  "kernelspec": {
   "display_name": "Python 3 (ipykernel)",
   "language": "python",
   "name": "python3"
  },
  "language_info": {
   "codemirror_mode": {
    "name": "ipython",
    "version": 3
   },
   "file_extension": ".py",
   "mimetype": "text/x-python",
   "name": "python",
   "nbconvert_exporter": "python",
   "pygments_lexer": "ipython3",
   "version": "3.12.4"
  }
 },
 "nbformat": 4,
 "nbformat_minor": 5
}
